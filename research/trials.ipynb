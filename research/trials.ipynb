version https://git-lfs.github.com/spec/v1
oid sha256:20e677b46ac803cb60d8cb59c005ebbdbe658647b95ea06507a501bf54e060f2
size 12949
