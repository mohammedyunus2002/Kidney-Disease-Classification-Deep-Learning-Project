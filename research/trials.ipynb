version https://git-lfs.github.com/spec/v1
oid sha256:39e4b345b11d8f68a8e1db6cc72a14b48b5c242fe81a852d5c50d1861f755e98
size 9551
